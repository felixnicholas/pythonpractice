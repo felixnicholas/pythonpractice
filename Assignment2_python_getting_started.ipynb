{
 "cells": [
  {
   "cell_type": "markdown",
   "metadata": {
    "colab_type": "text",
    "id": "view-in-github"
   },
   "source": [
    "<a href=\"https://colab.research.google.com/github/anshupandey/techtrunk_training/blob/master/Assignment1_python_getting_started.ipynb\" target=\"_parent\"><img src=\"https://colab.research.google.com/assets/colab-badge.svg\" alt=\"Open In Colab\"/></a>"
   ]
  },
  {
   "cell_type": "markdown",
   "metadata": {
    "colab_type": "text",
    "id": "f1TWTGqob4vF",
    "tags": [
     "Python",
     "Assignments",
     "Practice",
     "course",
     "python"
    ]
   },
   "source": [
    " # Getting Started with Python"
   ]
  },
  {
   "cell_type": "markdown",
   "metadata": {
    "colab_type": "text",
    "id": "whK_2Ayvb4vI",
    "tags": [
     "reverese_number",
     "python_excercise",
     "code",
     "python"
    ]
   },
   "source": [
    "### Exercise 1\n",
    "\n",
    "<b><p> Write code which accepts a number from user and returns the reverse of it.</b>\n",
    "    <br> For example \n",
    "    <li> reverse_number(852) will return 258\n",
    "    <li> reverse_number(6242) will return 2426\n",
    "    <li> reverse_number(81) will return 18"
   ]
  },
  {
   "cell_type": "code",
   "execution_count": 1,
   "metadata": {
    "colab": {},
    "colab_type": "code",
    "id": "dWx0iwNAb4vJ"
   },
   "outputs": [],
   "source": [
    "def reverse_number(num):\n",
    "    # you code goes here --\n",
    "    str_num = str(num) #converting into string\n",
    "    num = int(str_num[::-1]) #reversing the order via string indexing, then convert back into int\n",
    "    \n",
    "    return num"
   ]
  },
  {
   "cell_type": "code",
   "execution_count": 2,
   "metadata": {},
   "outputs": [
    {
     "data": {
      "text/plain": [
       "54321"
      ]
     },
     "execution_count": 2,
     "metadata": {},
     "output_type": "execute_result"
    }
   ],
   "source": [
    "reverse_number(12345)"
   ]
  },
  {
   "cell_type": "markdown",
   "metadata": {
    "colab_type": "text",
    "id": "W8WYSjV3b4vS",
    "tags": [
     "python",
     "excercise"
    ]
   },
   "source": [
    "### Exercise 2\n",
    "\n",
    "<b><p> Write a program that computes the net amount of a bank account based a transaction log from console input. The transaction log format is shown as following: </b>\n",
    "    <br> D 100 \n",
    "    <br> W 200\n",
    "    \n",
    "   For example \n",
    "    \n",
    "    D means deposit while W means withdrawal.\n",
    "    Suppose the following input is supplied to the program:\n",
    "    D 300\n",
    "    D 300\n",
    "    W 200\n",
    "    D 100\n",
    "    Then, the output should be:\n",
    "    500\n",
    "\n",
    "\n",
    "Hints: In case of input data being supplied to the question, it should be assumed to be a console input."
   ]
  },
  {
   "cell_type": "code",
   "execution_count": 10,
   "metadata": {
    "colab": {},
    "colab_type": "code",
    "id": "8ngdJGK3b4vU"
   },
   "outputs": [
    {
     "name": "stdout",
     "output_type": "stream",
     "text": [
      "Enter the number of transactions: 3\n",
      "Transaction: D 200\n",
      "Transaction: D 400\n",
      "Transaction: W 100\n",
      "500\n"
     ]
    }
   ],
   "source": [
    "count = input(\"Enter the number of transactions: \")\n",
    "transactions =[] #Creating an empty list to contain all the transactions\n",
    "total = 0 #Net amount\n",
    "for i in range(int(count)):\n",
    "    transactions.append(str(input(\"Transaction: \"))) #Adding the transactions into the list\n",
    "    \n",
    "    # write your code here onwards p.s. you can also change this structure to achieve required objective\n",
    "for entry in transactions: #Using for loop to iterate through every single input\n",
    "    if entry[0] =='D':\n",
    "        total = total + int(entry[2:]) #Deposit\n",
    "    elif entry[0] =='W':\n",
    "        total = total - int(entry[2:]) #Withdraw\n",
    " \n",
    "print(total)    \n",
    "        \n",
    "    "
   ]
  },
  {
   "cell_type": "markdown",
   "metadata": {
    "colab_type": "text",
    "id": "Lhn6hdtAb4vY",
    "tags": [
     "python",
     "text",
     "excercise",
     "Peter",
     "Norvig"
    ]
   },
   "source": [
    "### Exercise 3\n",
    "\n",
    "<b><p> Download the dataset from  </b>\n",
    "\n",
    " http://norvig.com/ngrams/sowpods.txt \n",
    "\n",
    "    In this exercise, the task is to write a function that picks a random word from a list of words from the downloaded dictionary.\n",
    "\n",
    "<br>This file is Peter Norvig’s compilation of the dictionary of words used in professional Scrabble tournaments. Each line in the file contains a single word.\n",
    "\n",
    "    To solve this exercise, you need to do three things:\n",
    "\n",
    "-\tRead all the lists of words\n",
    "-\tGenerate a random number\n",
    "-\tTake that word\n"
   ]
  },
  {
   "cell_type": "code",
   "execution_count": 63,
   "metadata": {
    "colab": {},
    "colab_type": "code",
    "id": "zh0NwwSab4vZ"
   },
   "outputs": [],
   "source": [
    "def get_word(text):\n",
    "    file = open(text) #Opening the file\n",
    "    # you code goes here\n",
    "    import random #Importing the relevant module\n",
    "    words_list = list(file) #Creating a list of all the words\n",
    "    random_number = random.randint(0,len(words_list)) #Calling a random number for every possible word\n",
    "    answer = words_list[random_number] #Calling the word with the index random_number\n",
    "    word = answer[:-1] #With the above line, the output will be 'word\\n', so in order to remove the \\n slicing is required\n",
    "    return word, random_number"
   ]
  },
  {
   "cell_type": "code",
   "execution_count": 64,
   "metadata": {},
   "outputs": [
    {
     "data": {
      "text/plain": [
       "('EBULLIENCES', 70498)"
      ]
     },
     "execution_count": 64,
     "metadata": {},
     "output_type": "execute_result"
    }
   ],
   "source": [
    "get_word('sowpods.txt')"
   ]
  },
  {
   "cell_type": "markdown",
   "metadata": {
    "colab_type": "text",
    "id": "WYbmEOIhb4vd",
    "tags": [
     "words",
     "python",
     "code",
     "excercise"
    ]
   },
   "source": [
    "### Exercise 4\n",
    "\n",
    "<br><b>Write a program to compute the frequency of the words from the input. The output should output after sorting the key alphanumerically.</b> \n",
    "\n",
    "<br> Suppose the following input is supplied to the program:<br>\n",
    "<code> “New to Python or choosing between Python 2 and Python 3? Read Python 2 or Python 3.” </code>\n",
    "\n",
    "    Then, the output should be:\n",
    "    2:2\n",
    "    3.:1\n",
    "    3?:1\n",
    "    New:1\n",
    "    Python:5\n",
    "    Read:1\n",
    "    and:1\n",
    "    between:1\n",
    "    choosing:1\n",
    "    or:2\n",
    "    to:1\n",
    "<br><br> \n",
    "Hints: In case of input data being supplied to the question, it should be assumed to be a console input.\n"
   ]
  },
  {
   "cell_type": "code",
   "execution_count": 56,
   "metadata": {
    "colab": {},
    "colab_type": "code",
    "id": "gSqU2xRLb4vf"
   },
   "outputs": [
    {
     "name": "stdout",
     "output_type": "stream",
     "text": [
      "Enter your text here: \n",
      "New to Python or choosing between Python 2 and Python 3? Read Python 2 or Python 3.\n",
      "{'New': 1, 'to': 1, 'Python': 5, 'or': 2, 'choosing': 1, 'between': 1, '2': 2, 'and': 1, '3?': 1, 'Read': 1, '3.': 1}\n"
     ]
    }
   ],
   "source": [
    "text = input(\"Enter your text here: \\n\")\n",
    "# your code goes here\n",
    "words = text.split() #Splitting the sentence into words separated by space\n",
    "output = {} #Creating empty dictionary to count words\n",
    "\n",
    "for word in words: #Counting the occurence of each word with for loop\n",
    "    if word in output: \n",
    "        output[word] +=1 #\n",
    "    else:\n",
    "        output[word] = 1\n",
    "\n",
    "print(output)"
   ]
  },
  {
   "cell_type": "markdown",
   "metadata": {
    "colab_type": "text",
    "id": "Bkx3zUSlb4vj",
    "tags": [
     "regular_expression",
     "python",
     "excercise",
     "code"
    ]
   },
   "source": [
    "### Exercise 5\n",
    "\n",
    "<br><b>A website requires the users to input username and password to register. Write a program to check the validity of password input by users.</b> \n",
    "\n",
    "\n",
    "<br><br>Following are the criteria for checking the password:\n",
    "\n",
    "    a.\tAt least 1 letter between [a-z]\n",
    "    b.\tAt least 1 number between [0-9]\n",
    "    c.\tAt least 1 letter between [A-Z]\n",
    "    d.\tAt least 1 character from [_#@]\n",
    "    e.\tMinimum length of transaction password: 6\n",
    "    f.\tMaximum length of transaction password: 12\n",
    "\n",
    "<br> <p> Your program should accept a sequence of comma separated passwords and will check them according to the above criteria. Passwords that match the criteria are to be printed, each separated by a comma.\n",
    "<br><br>\n",
    "*For Example*\n",
    "<br>If the following passwords are given as input to the program:\n",
    "\n",
    "    ABd1234@1,a F1#,2w3E*,2We3345\n",
    "Then, the output of the program should be:\n",
    "\n",
    "    ABd1234@1\n",
    "\n",
    "<br>Hints: In case of input data being supplied to the question, it should be assumed to be a console input\n",
    "  \n"
   ]
  },
  {
   "cell_type": "code",
   "execution_count": 70,
   "metadata": {
    "colab": {},
    "colab_type": "code",
    "id": "YgE1DnDDb4vl"
   },
   "outputs": [],
   "source": [
    "# Your solution goes here.\n",
    "def password_check(passwords_string):\n",
    "    passwords_list= passwords_string.split(\",\") #Splitting the comma-separated passwords into individual password\n",
    "    valid_passwords = []  #Creating an empty list to contain the valid passwords\n",
    "    special_characters = ['_','#','@'] #Assigning the acceptable special characters\n",
    "    for password in passwords_list:\n",
    "        lower_c = 0         #Count of lowercase characters\n",
    "        digit_c = 0         #Count of digits characters\n",
    "        upper_c = 0         #Count of uppercase characters\n",
    "        special_c = 0       #Count of special characters\n",
    "        if len(password) >= 6 and len(password)<=12: #Filtering based on password length criteria\n",
    "            for char in password:\n",
    "                if char.islower():\n",
    "                    lower_c +=1\n",
    "                if char.isdigit():\n",
    "                    digit_c +=1\n",
    "                if char.isupper():\n",
    "                    upper_c +=1\n",
    "                if char in special_characters:\n",
    "                    special_c +=1\n",
    "        if (lower_c>=1 and digit_c>=1 and upper_c>=1 and special_c>=1 and (lower_c+digit_c+upper_c+special_c == len(password))):\n",
    "            valid_passwords.append(password) #Applying the format criteria\n",
    "        \n",
    "    \n",
    "    return valid_passwords"
   ]
  },
  {
   "cell_type": "code",
   "execution_count": 72,
   "metadata": {},
   "outputs": [
    {
     "data": {
      "text/plain": [
       "['ABd1234@1', 'Acsdf_@T1', '2We334#5']"
      ]
     },
     "execution_count": 72,
     "metadata": {},
     "output_type": "execute_result"
    }
   ],
   "source": [
    "password_check('ABd1234@1,Acsdf_@T1,2w3E*,2We334#5')"
   ]
  }
 ],
 "metadata": {
  "colab": {
   "include_colab_link": true,
   "name": "Assignment1_python_getting_started.ipynb",
   "provenance": [],
   "version": "0.3.2"
  },
  "kernelspec": {
   "display_name": "Python 3",
   "language": "python",
   "name": "python3"
  },
  "language_info": {
   "codemirror_mode": {
    "name": "ipython",
    "version": 3
   },
   "file_extension": ".py",
   "mimetype": "text/x-python",
   "name": "python",
   "nbconvert_exporter": "python",
   "pygments_lexer": "ipython3",
   "version": "3.8.3"
  }
 },
 "nbformat": 4,
 "nbformat_minor": 1
}
