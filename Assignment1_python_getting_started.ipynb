{
 "cells": [
  {
   "cell_type": "markdown",
   "metadata": {
    "colab_type": "text",
    "id": "view-in-github"
   },
   "source": [
    "<a href=\"https://colab.research.google.com/github/anshupandey/techtrunk_training/blob/master/Assignment1_python_getting_started_basics.ipynb\" target=\"_parent\"><img src=\"https://colab.research.google.com/assets/colab-badge.svg\" alt=\"Open In Colab\"/></a>"
   ]
  },
  {
   "cell_type": "markdown",
   "metadata": {
    "colab_type": "text",
    "id": "f1TWTGqob4vF",
    "tags": [
     "Python",
     "Assignments",
     "Practice",
     "course",
     "python"
    ]
   },
   "source": [
    " # Getting Started with Python Basics"
   ]
  },
  {
   "cell_type": "markdown",
   "metadata": {
    "colab_type": "text",
    "id": "whK_2Ayvb4vI",
    "tags": [
     "reverese_number",
     "python_excercise",
     "code",
     "python"
    ]
   },
   "source": [
    "### Excercise 1\n",
    "\n",
    "<b><p> Write a code to generate the fibonacci series.</b>\n",
    "    <br> \n",
    "  Create a function fib(length) which generates fibonacci series of a specific length.  For example \n",
    "    <li> fib(5) will return [0,1,1,2,3]\n",
    "    <li> fib(8) will return [0,1,1,2,3,5,8,13]\n",
    "    <li> fib(10) will return [0,1,1,2,3,5,8,13,21,34]\n",
    "      <br>you can use [0,1] as known initial values  "
   ]
  },
  {
   "cell_type": "code",
   "execution_count": 1,
   "metadata": {
    "colab": {},
    "colab_type": "code",
    "id": "dWx0iwNAb4vJ"
   },
   "outputs": [],
   "source": [
    "def fib(length):\n",
    "    # you code goes here --\n",
    "    i = 0 #for rolling sum\n",
    "    out = [0,1] #initial output\n",
    "    if length ==1: #defining the output if length equals 1\n",
    "        out = [0]\n",
    "    elif length > 2: #if length is greater than 2, which means we start index 2\n",
    "        while i < len(range(length-2)): #length -2 because we have 2 values in the initial output\n",
    "            out.append(out[i]+out[i+1]) #the index 2 is the result of adding index 0 and index 1, and so on\n",
    "            i += 1\n",
    "    else: #if the input is 0 or negative\n",
    "        print('Please input a number equal to or greater than 1')\n",
    "        return\n",
    "    return out"
   ]
  },
  {
   "cell_type": "code",
   "execution_count": 3,
   "metadata": {
    "scrolled": true
   },
   "outputs": [
    {
     "data": {
      "text/plain": [
       "[0, 1, 1, 2, 3, 5, 8, 13, 21, 34, 55]"
      ]
     },
     "execution_count": 3,
     "metadata": {},
     "output_type": "execute_result"
    }
   ],
   "source": [
    "fib(11)"
   ]
  },
  {
   "cell_type": "markdown",
   "metadata": {
    "colab_type": "text",
    "id": "W8WYSjV3b4vS",
    "tags": [
     "python",
     "excercise"
    ]
   },
   "source": [
    "### Excercise 2\n",
    "\n",
    "<b><p> Write a program to generate password of length 8 which should have a minimum number and one minimum upper case character. The password should be randomly generated </b>\n",
    " \n",
    "Hints: you can use package string >> <br>\n",
    "<code> import string</code><br>\n",
    "<code> string.ascii_lowercase</code><br>\n",
    "<code> string.ascii_uppercase</code>\n"
   ]
  },
  {
   "cell_type": "code",
   "execution_count": 31,
   "metadata": {},
   "outputs": [
    {
     "data": {
      "text/plain": [
       "'abcdefghijklmnopqrstuvwxyz'"
      ]
     },
     "execution_count": 31,
     "metadata": {},
     "output_type": "execute_result"
    }
   ],
   "source": [
    "import string\n",
    "string.ascii_lowercase"
   ]
  },
  {
   "cell_type": "code",
   "execution_count": 8,
   "metadata": {
    "colab": {},
    "colab_type": "code",
    "id": "8ngdJGK3b4vU"
   },
   "outputs": [],
   "source": [
    "def getPassword(length):\n",
    "    import string\n",
    "    import random\n",
    "    option = string.ascii_lowercase + string.ascii_uppercase + string.digits #creating a pool to choose the character from\n",
    "    password = random.choice(string.ascii_uppercase) + random.choice(string.digits) #fulfilling the minimum of 1 uppercase and 1 digit\n",
    "    for i in range(length-2): #length -2 because we have added 2 characters by default\n",
    "        password += random.choice(option)\n",
    "    password =  ''.join(random.sample(password,len(password))) #to shuffle the string\n",
    "    return password"
   ]
  },
  {
   "cell_type": "code",
   "execution_count": 11,
   "metadata": {
    "colab": {},
    "colab_type": "code",
    "id": "YgE1DnDDb4vl"
   },
   "outputs": [
    {
     "data": {
      "text/plain": [
       "'y2QM35nyZ9'"
      ]
     },
     "execution_count": 11,
     "metadata": {},
     "output_type": "execute_result"
    }
   ],
   "source": [
    "# Your solution goes here.\n",
    "getPassword(10)\n"
   ]
  }
 ],
 "metadata": {
  "colab": {
   "include_colab_link": true,
   "name": "Assignment1_python_getting_started.ipynb",
   "provenance": [],
   "version": "0.3.2"
  },
  "kernelspec": {
   "display_name": "Python 3",
   "language": "python",
   "name": "python3"
  },
  "language_info": {
   "codemirror_mode": {
    "name": "ipython",
    "version": 3
   },
   "file_extension": ".py",
   "mimetype": "text/x-python",
   "name": "python",
   "nbconvert_exporter": "python",
   "pygments_lexer": "ipython3",
   "version": "3.8.3"
  }
 },
 "nbformat": 4,
 "nbformat_minor": 1
}
